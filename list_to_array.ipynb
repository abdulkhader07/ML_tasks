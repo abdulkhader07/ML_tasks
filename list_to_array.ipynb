{
 "cells": [
  {
   "cell_type": "code",
   "execution_count": 2,
   "id": "2b3d3970",
   "metadata": {},
   "outputs": [],
   "source": [
    "#task 1\n",
    "#converting list to array\n",
    "\n",
    "import numpy as np"
   ]
  },
  {
   "cell_type": "code",
   "execution_count": 3,
   "id": "d3c8dbb0",
   "metadata": {},
   "outputs": [
    {
     "name": "stdout",
     "output_type": "stream",
     "text": [
      "list: [1, 2, 0, 5, 8, 5]\n",
      "array: [1 2 0 5 8 5]\n"
     ]
    }
   ],
   "source": [
    "import numpy as np\n",
    "l=[1,2,0,5,8,5]\n",
    "\n",
    "#converting list to array\n",
    "arr= np.array(l)\n",
    "\n",
    "#printing list\n",
    "print(\"list:\", l)\n",
    "\n",
    "#printing output\n",
    "print(\"array:\", arr)\n"
   ]
  },
  {
   "cell_type": "code",
   "execution_count": null,
   "id": "511bdb04",
   "metadata": {},
   "outputs": [],
   "source": []
  }
 ],
 "metadata": {
  "kernelspec": {
   "display_name": "Python 3 (ipykernel)",
   "language": "python",
   "name": "python3"
  },
  "language_info": {
   "codemirror_mode": {
    "name": "ipython",
    "version": 3
   },
   "file_extension": ".py",
   "mimetype": "text/x-python",
   "name": "python",
   "nbconvert_exporter": "python",
   "pygments_lexer": "ipython3",
   "version": "3.9.7"
  }
 },
 "nbformat": 4,
 "nbformat_minor": 5
}
